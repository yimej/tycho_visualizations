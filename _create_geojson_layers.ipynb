{
 "cells": [
  {
   "cell_type": "code",
   "execution_count": 100,
   "metadata": {},
   "outputs": [],
   "source": [
    "#load dependencies and file\n",
    "import json, requests, pandas as pd\n",
    "from pprint import pprint\n",
    "from collections import MutableMapping\n",
    "from contextlib import suppress\n",
    "import os\n",
    "import glob"
   ]
  },
  {
   "cell_type": "code",
   "execution_count": 103,
   "metadata": {},
   "outputs": [],
   "source": [
    "files = glob.glob('./carto_layers/*')\n",
    "for f in files:\n",
    "    os.remove(f)\n",
    "\n",
    "df = pd.read_csv('carto_dataset.csv')\n",
    "df.set_index('abbr', inplace=True)\n",
    "timerange = list(df.keys())\n",
    "df.head()\n",
    "\n",
    "with open('cleaned_geojson.json', 'r') as f:\n",
    "    data = json.load(f)"
   ]
  },
  {
   "cell_type": "code",
   "execution_count": 104,
   "metadata": {},
   "outputs": [],
   "source": [
    "for year in range(len(timerange)):\n",
    "    with open('cleaned_geojson.json', 'r') as f:\n",
    "        data = json.load(f)\n",
    "\n",
    "    yearlydata = []\n",
    "    yearlydata = list(df[timerange[year]])\n",
    "    \n",
    "    for each in range(51):\n",
    "        data['features'][each]['properties'][timerange[year]] = yearlydata[each]\n",
    "    \n",
    "    geojson = json.dumps(data)\n",
    "    loaded_geojson = json.loads(geojson)\n",
    "\n",
    "    with open('./carto_layers/'+timerange[year]+'.json', 'w') as outfile:\n",
    "        json.dump(loaded_geojson, outfile)"
   ]
  },
  {
   "cell_type": "code",
   "execution_count": 96,
   "metadata": {},
   "outputs": [
    {
     "data": {
      "text/plain": [
       "'2017'"
      ]
     },
     "execution_count": 96,
     "metadata": {},
     "output_type": "execute_result"
    }
   ],
   "source": [
    "timerange[year]"
   ]
  },
  {
   "cell_type": "code",
   "execution_count": null,
   "metadata": {},
   "outputs": [],
   "source": []
  }
 ],
 "metadata": {
  "kernelspec": {
   "display_name": "Python 3",
   "language": "python",
   "name": "python3"
  },
  "language_info": {
   "codemirror_mode": {
    "name": "ipython",
    "version": 3
   },
   "file_extension": ".py",
   "mimetype": "text/x-python",
   "name": "python",
   "nbconvert_exporter": "python",
   "pygments_lexer": "ipython3",
   "version": "3.6.4"
  }
 },
 "nbformat": 4,
 "nbformat_minor": 2
}
