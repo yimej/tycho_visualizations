{
 "cells": [
  {
   "cell_type": "code",
   "execution_count": 16,
   "metadata": {},
   "outputs": [],
   "source": [
    "#load dependencies and file\n",
    "import json, requests, pandas as pd\n",
    "from pprint import pprint\n",
    "from collections import MutableMapping\n",
    "from contextlib import suppress\n",
    "\n",
    "with open('states.json', 'r') as f:\n",
    "    data = json.load(f)"
   ]
  },
  {
   "cell_type": "code",
   "execution_count": 22,
   "metadata": {},
   "outputs": [
    {
     "data": {
      "text/plain": [
       "dict"
      ]
     },
     "execution_count": 22,
     "metadata": {},
     "output_type": "execute_result"
    }
   ],
   "source": [
    "type(data)"
   ]
  },
  {
   "cell_type": "code",
   "execution_count": 17,
   "metadata": {},
   "outputs": [],
   "source": [
    "#remove PR\n",
    "del data['features'][51]\n",
    "\n",
    "#list of unnecessary keys\n",
    "keys_to_remove = ['GEO_ID', 'STATE', 'LSAD', 'CENSUSAREA']\n",
    "\n",
    "#remove unnecessary keys\n",
    "for each in range(51):\n",
    "    #data['features'][each]['properties']['state'] = data.pop['features'][each]['properties']['NAME']\n",
    "    #d['test2'] = d.pop('test')\n",
    "    #data['state'] = data.pop['NAME']\n",
    "    for key in keys_to_remove:\n",
    "        del data['features'][each]['properties'][key]\n",
    "\n",
    "#rename 'NAME' to 'State'\n",
    "for each in range(51):\n",
    "    data['features'][each]['properties']['state'] = data['features'][each]['properties']['NAME']\n",
    "    del data['features'][each]['properties']['NAME']"
   ]
  },
  {
   "cell_type": "code",
   "execution_count": 18,
   "metadata": {},
   "outputs": [],
   "source": [
    "#trying to prettyprint json D:\n",
    "# newjson = json.dumps(data)\n",
    "# print(json.dumps(newjson, indent=4, sort_keys=True))"
   ]
  },
  {
   "cell_type": "code",
   "execution_count": 19,
   "metadata": {},
   "outputs": [],
   "source": [
    "for each in range(51):\n",
    "    data['features'][each]['properties']['abbr'] = abbr[each]"
   ]
  },
  {
   "cell_type": "code",
   "execution_count": 25,
   "metadata": {},
   "outputs": [],
   "source": [
    "# #DO NOT DELETE!!!\n",
    "geojson = json.dumps(data)\n",
    "loaded_geojson = json.loads(geojson)\n",
    "# pprint(loaded_geojson)\n",
    "with open('cleaned_geojson.json', 'w') as outfile:\n",
    "    json.dump(loaded_geojson, outfile)"
   ]
  },
  {
   "cell_type": "code",
   "execution_count": 26,
   "metadata": {},
   "outputs": [
    {
     "data": {
      "text/plain": [
       "str"
      ]
     },
     "execution_count": 26,
     "metadata": {},
     "output_type": "execute_result"
    }
   ],
   "source": [
    "type(geojson)"
   ]
  },
  {
   "cell_type": "code",
   "execution_count": null,
   "metadata": {},
   "outputs": [],
   "source": []
  }
 ],
 "metadata": {
  "kernelspec": {
   "display_name": "Python 3",
   "language": "python",
   "name": "python3"
  },
  "language_info": {
   "codemirror_mode": {
    "name": "ipython",
    "version": 3
   },
   "file_extension": ".py",
   "mimetype": "text/x-python",
   "name": "python",
   "nbconvert_exporter": "python",
   "pygments_lexer": "ipython3",
   "version": "3.6.4"
  }
 },
 "nbformat": 4,
 "nbformat_minor": 2
}
