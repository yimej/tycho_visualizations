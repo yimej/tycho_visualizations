{
 "cells": [
  {
   "cell_type": "code",
   "execution_count": 1,
   "metadata": {
    "collapsed": true
   },
   "outputs": [],
   "source": [
    "import pandas as pd\n",
    "import sqlalchemy\n",
    "from sqlalchemy import create_engine\n",
    "from sqlalchemy.ext.declarative import declarative_base\n",
    "from sqlalchemy import Column, Integer, String, Float, Date"
   ]
  },
  {
   "cell_type": "code",
   "execution_count": 2,
   "metadata": {
    "collapsed": true
   },
   "outputs": [],
   "source": [
    "Base = declarative_base()"
   ]
  },
  {
   "cell_type": "code",
   "execution_count": 3,
   "metadata": {},
   "outputs": [
    {
     "data": {
      "text/html": [
       "<div>\n",
       "<style>\n",
       "    .dataframe thead tr:only-child th {\n",
       "        text-align: right;\n",
       "    }\n",
       "\n",
       "    .dataframe thead th {\n",
       "        text-align: left;\n",
       "    }\n",
       "\n",
       "    .dataframe tbody tr th {\n",
       "        vertical-align: top;\n",
       "    }\n",
       "</style>\n",
       "<table border=\"1\" class=\"dataframe\">\n",
       "  <thead>\n",
       "    <tr style=\"text-align: right;\">\n",
       "      <th></th>\n",
       "      <th>State</th>\n",
       "      <th>Cases_2010</th>\n",
       "      <th>Cases_2011</th>\n",
       "      <th>Cases_2012</th>\n",
       "      <th>Cases_2013</th>\n",
       "      <th>Cases_2014</th>\n",
       "      <th>Cases_2015</th>\n",
       "      <th>Cases_2016</th>\n",
       "      <th>Cases_2017</th>\n",
       "      <th>Rate_2010</th>\n",
       "      <th>Rate_2011</th>\n",
       "      <th>Rate_2012</th>\n",
       "      <th>Rate_2013</th>\n",
       "      <th>Rate_2014</th>\n",
       "      <th>Rate_2015</th>\n",
       "      <th>Rate_2016</th>\n",
       "      <th>Rate_2017</th>\n",
       "      <th>TotalByState</th>\n",
       "    </tr>\n",
       "  </thead>\n",
       "  <tbody>\n",
       "    <tr>\n",
       "      <th>0</th>\n",
       "      <td>ALABAMA</td>\n",
       "      <td>2.0</td>\n",
       "      <td>0.0</td>\n",
       "      <td>7.0</td>\n",
       "      <td>0.0</td>\n",
       "      <td>2.0</td>\n",
       "      <td>5.0</td>\n",
       "      <td>9.0</td>\n",
       "      <td>26.0</td>\n",
       "      <td>0.000648</td>\n",
       "      <td>0.000000</td>\n",
       "      <td>0.002267</td>\n",
       "      <td>0.000000</td>\n",
       "      <td>0.000648</td>\n",
       "      <td>0.001619</td>\n",
       "      <td>0.002915</td>\n",
       "      <td>0.008421</td>\n",
       "      <td>51.016518</td>\n",
       "    </tr>\n",
       "    <tr>\n",
       "      <th>1</th>\n",
       "      <td>ALASKA</td>\n",
       "      <td>0.0</td>\n",
       "      <td>0.0</td>\n",
       "      <td>0.0</td>\n",
       "      <td>0.0</td>\n",
       "      <td>0.0</td>\n",
       "      <td>0.0</td>\n",
       "      <td>0.0</td>\n",
       "      <td>0.0</td>\n",
       "      <td>0.000000</td>\n",
       "      <td>0.000000</td>\n",
       "      <td>0.000000</td>\n",
       "      <td>0.000000</td>\n",
       "      <td>0.000000</td>\n",
       "      <td>0.000000</td>\n",
       "      <td>0.000000</td>\n",
       "      <td>0.000000</td>\n",
       "      <td>0.000000</td>\n",
       "    </tr>\n",
       "    <tr>\n",
       "      <th>2</th>\n",
       "      <td>ARIZONA</td>\n",
       "      <td>58.0</td>\n",
       "      <td>20.0</td>\n",
       "      <td>10.0</td>\n",
       "      <td>2.0</td>\n",
       "      <td>24.0</td>\n",
       "      <td>35.0</td>\n",
       "      <td>19.0</td>\n",
       "      <td>18.0</td>\n",
       "      <td>0.018786</td>\n",
       "      <td>0.006478</td>\n",
       "      <td>0.003239</td>\n",
       "      <td>0.000648</td>\n",
       "      <td>0.007773</td>\n",
       "      <td>0.011336</td>\n",
       "      <td>0.006154</td>\n",
       "      <td>0.005830</td>\n",
       "      <td>186.060244</td>\n",
       "    </tr>\n",
       "    <tr>\n",
       "      <th>3</th>\n",
       "      <td>ARKANSAS</td>\n",
       "      <td>1.0</td>\n",
       "      <td>0.0</td>\n",
       "      <td>2.0</td>\n",
       "      <td>0.0</td>\n",
       "      <td>2.0</td>\n",
       "      <td>2.0</td>\n",
       "      <td>3.0</td>\n",
       "      <td>3.0</td>\n",
       "      <td>0.000324</td>\n",
       "      <td>0.000000</td>\n",
       "      <td>0.000648</td>\n",
       "      <td>0.000000</td>\n",
       "      <td>0.000648</td>\n",
       "      <td>0.000648</td>\n",
       "      <td>0.000972</td>\n",
       "      <td>0.000972</td>\n",
       "      <td>13.004211</td>\n",
       "    </tr>\n",
       "    <tr>\n",
       "      <th>4</th>\n",
       "      <td>CALIFORNIA</td>\n",
       "      <td>38.0</td>\n",
       "      <td>45.0</td>\n",
       "      <td>135.0</td>\n",
       "      <td>6.0</td>\n",
       "      <td>251.0</td>\n",
       "      <td>186.0</td>\n",
       "      <td>89.0</td>\n",
       "      <td>133.0</td>\n",
       "      <td>0.012308</td>\n",
       "      <td>0.014575</td>\n",
       "      <td>0.043725</td>\n",
       "      <td>0.001943</td>\n",
       "      <td>0.081297</td>\n",
       "      <td>0.060244</td>\n",
       "      <td>0.028826</td>\n",
       "      <td>0.043078</td>\n",
       "      <td>883.285996</td>\n",
       "    </tr>\n",
       "  </tbody>\n",
       "</table>\n",
       "</div>"
      ],
      "text/plain": [
       "        State  Cases_2010  Cases_2011  Cases_2012  Cases_2013  Cases_2014  \\\n",
       "0     ALABAMA         2.0         0.0         7.0         0.0         2.0   \n",
       "1      ALASKA         0.0         0.0         0.0         0.0         0.0   \n",
       "2     ARIZONA        58.0        20.0        10.0         2.0        24.0   \n",
       "3    ARKANSAS         1.0         0.0         2.0         0.0         2.0   \n",
       "4  CALIFORNIA        38.0        45.0       135.0         6.0       251.0   \n",
       "\n",
       "   Cases_2015  Cases_2016  Cases_2017  Rate_2010  Rate_2011  Rate_2012  \\\n",
       "0         5.0         9.0        26.0   0.000648   0.000000   0.002267   \n",
       "1         0.0         0.0         0.0   0.000000   0.000000   0.000000   \n",
       "2        35.0        19.0        18.0   0.018786   0.006478   0.003239   \n",
       "3         2.0         3.0         3.0   0.000324   0.000000   0.000648   \n",
       "4       186.0        89.0       133.0   0.012308   0.014575   0.043725   \n",
       "\n",
       "   Rate_2013  Rate_2014  Rate_2015  Rate_2016  Rate_2017  TotalByState  \n",
       "0   0.000000   0.000648   0.001619   0.002915   0.008421     51.016518  \n",
       "1   0.000000   0.000000   0.000000   0.000000   0.000000      0.000000  \n",
       "2   0.000648   0.007773   0.011336   0.006154   0.005830    186.060244  \n",
       "3   0.000000   0.000648   0.000648   0.000972   0.000972     13.004211  \n",
       "4   0.001943   0.081297   0.060244   0.028826   0.043078    883.285996  "
      ]
     },
     "execution_count": 3,
     "metadata": {},
     "output_type": "execute_result"
    }
   ],
   "source": [
    "WNV_df = pd.read_csv(\"cleaned_westnile_dataset.csv\")\n",
    "WNV_df.head()"
   ]
  },
  {
   "cell_type": "code",
   "execution_count": 4,
   "metadata": {},
   "outputs": [],
   "source": [
    "class Disease_Data(Base):\n",
    "    __tablename__ = \"disease_data\"\n",
    "    id=Column(Integer, primary_key=True)\n",
    "    State=Column(String)\n",
    "    Cases_2010=Column(Integer)\n",
    "    Cases_2011=Column(Integer)\n",
    "    Cases_2012=Column(Integer)\n",
    "    Cases_2013=Column(Integer)\n",
    "    Cases_2014=Column(Integer)\n",
    "    Cases_2015=Column(Integer)\n",
    "    Cases_2016=Column(Integer)\n",
    "    Cases_2017=Column(Integer)\n",
    "    Rate_2010=Column(Float)\n",
    "    Rate_2011=Column(Float)\n",
    "    Rate_2012=Column(Float)\n",
    "    Rate_2013=Column(Float)\n",
    "    Rate_2014=Column(Float)\n",
    "    Rate_2015=Column(Float)\n",
    "    Rate_2016=Column(Float)\n",
    "    Rate_2017=Column(Float)\n",
    "    TotalByState=Column(Float)"
   ]
  },
  {
   "cell_type": "code",
   "execution_count": 5,
   "metadata": {
    "collapsed": true
   },
   "outputs": [],
   "source": [
    "engine = create_engine('sqlite:///westnile_1.sqlite')"
   ]
  },
  {
   "cell_type": "code",
   "execution_count": 6,
   "metadata": {
    "collapsed": true
   },
   "outputs": [],
   "source": [
    "Base.metadata.create_all(engine)"
   ]
  },
  {
   "cell_type": "code",
   "execution_count": 7,
   "metadata": {},
   "outputs": [],
   "source": [
    "WNV_df.to_sql(\"disease_data\", engine, if_exists='append', index=False)"
   ]
  },
  {
   "cell_type": "code",
   "execution_count": null,
   "metadata": {
    "collapsed": true
   },
   "outputs": [],
   "source": []
  }
 ],
 "metadata": {
  "kernelspec": {
   "display_name": "Python 3",
   "language": "python",
   "name": "python3"
  },
  "language_info": {
   "codemirror_mode": {
    "name": "ipython",
    "version": 3
   },
   "file_extension": ".py",
   "mimetype": "text/x-python",
   "name": "python",
   "nbconvert_exporter": "python",
   "pygments_lexer": "ipython3",
   "version": "3.6.3"
  }
 },
 "nbformat": 4,
 "nbformat_minor": 2
}
